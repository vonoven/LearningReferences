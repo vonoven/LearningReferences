{
 "cells": [
  {
   "cell_type": "markdown",
   "metadata": {},
   "source": [
    "### Simple Decision Tree example"
   ]
  },
  {
   "cell_type": "code",
   "execution_count": 1,
   "metadata": {},
   "outputs": [
    {
     "name": "stdout",
     "output_type": "stream",
     "text": [
      "First in-sample predictions: \t\t [186500. 184000. 130000.  92000. 164500.]\n",
      "Actual target values for those homes:\t [231500, 179500, 122000, 84500, 142000]\n",
      "Validation MAE: 29,653\n"
     ]
    }
   ],
   "source": [
    "import pandas as pd\n",
    "from sklearn.metrics import mean_absolute_error\n",
    "from sklearn.model_selection import train_test_split\n",
    "from sklearn.tree import DecisionTreeRegressor\n",
    "\n",
    "# Path of the file to read\n",
    "file_path = './input/iowa_train.csv'\n",
    "\n",
    "# create variable to hold the data\n",
    "home_data = pd.read_csv(file_path)\n",
    "# identify the prediction target y\n",
    "y = home_data.SalePrice\n",
    "# create variable to hold the feature columns (columns to use to predict)\n",
    "feature_columns = ['LotArea', 'YearBuilt', '1stFlrSF', '2ndFlrSF', 'FullBath', 'BedroomAbvGr', 'TotRmsAbvGrd']\n",
    "# load the feature data into X\n",
    "X = home_data[feature_columns]\n",
    "\n",
    "# Split into validation and training data\n",
    "train_X, val_X, train_y, val_y = train_test_split(X, y, random_state=1)\n",
    "\n",
    "# Specify Model\n",
    "model = DecisionTreeRegressor(random_state=1)\n",
    "# Fit Model\n",
    "model.fit(train_X, train_y)\n",
    "\n",
    "# Make validation predictions and calculate mean absolute error\n",
    "val_predictions = model.predict(val_X)\n",
    "val_mae = mean_absolute_error(val_predictions, val_y)\n",
    "\n",
    "print(\"First in-sample predictions: \\t\\t\" , model.predict(val_X.head()))\n",
    "print(\"Actual target values for those homes:\\t\", val_y.head().tolist())\n",
    "print(\"Validation MAE: {:,.0f}\".format(val_mae))\n"
   ]
  },
  {
   "cell_type": "markdown",
   "metadata": {},
   "source": [
    "### Use a loop to determine the optimal tree size from a list of static choices"
   ]
  },
  {
   "cell_type": "code",
   "execution_count": 2,
   "metadata": {},
   "outputs": [
    {
     "name": "stdout",
     "output_type": "stream",
     "text": [
      "The best tree size is: 100\n",
      " with a MAE: 27,283\n"
     ]
    }
   ],
   "source": [
    "def get_mae(max_leaf_nodes, train_X, val_X, train_y, val_y):\n",
    "    model = DecisionTreeRegressor(max_leaf_nodes=max_leaf_nodes, random_state=0)\n",
    "    model.fit(train_X, train_y)\n",
    "    preds_val = model.predict(val_X)\n",
    "    mae = mean_absolute_error(val_y, preds_val)\n",
    "    return(mae)\n",
    "\n",
    "candidate_max_leaf_nodes = [5, 25, 50, 100, 250, 500]\n",
    "# loop to find the ideal tree size from candidate_max_leaf_nodes\n",
    "mae_list = {}\n",
    "for max_leaf_nodes in candidate_max_leaf_nodes:\n",
    "    mae_list[max_leaf_nodes] = get_mae(max_leaf_nodes, train_X, val_X, train_y, val_y)\n",
    "# Store the best value of max_leaf_nodes (it will be either 5, 25, 50, 100, 250 or 500)\n",
    "best_tree_size = min(mae_list, key=mae_list.get)\n",
    "print(\"The best tree size is: \" + str(best_tree_size) + \"\\n with a MAE: {:,.0f}\".format(mae_list[best_tree_size]))"
   ]
  },
  {
   "cell_type": "code",
   "execution_count": 5,
   "metadata": {},
   "outputs": [
    {
     "name": "stdout",
     "output_type": "stream",
     "text": [
      "First few predictions: \t\t [209133.65384615 146415.0075188  209133.65384615 143297.46666667\n",
      " 270325.        ]\n",
      "Actual target values for those homes:\t [208500, 181500, 223500, 140000, 250000]\n",
      "MAE: 7,460\n"
     ]
    }
   ],
   "source": [
    "# Fit the model with best_tree_size. Fill in argument to make optimal size\n",
    "final_model = DecisionTreeRegressor(max_leaf_nodes=best_tree_size, random_state=0)\n",
    "\n",
    "# fit the final model\n",
    "final_model.fit(X, y)\n",
    "\n",
    "# Make predictions and calculate mean absolute error\n",
    "predictions = model.predict(X)\n",
    "mae = mean_absolute_error(predictions, y)\n",
    "\n",
    "print(\"First few predictions: \\t\\t\" , final_model.predict(X.head()))\n",
    "print(\"Actual target values for those homes:\\t\", y.head().tolist())\n",
    "print(\"MAE: {:,.0f}\".format(mae))\n"
   ]
  },
  {
   "cell_type": "markdown",
   "metadata": {},
   "source": [
    "### Same thing now using a Random Forest model\n",
    "#### first, the validation"
   ]
  },
  {
   "cell_type": "code",
   "execution_count": 8,
   "metadata": {},
   "outputs": [
    {
     "name": "stdout",
     "output_type": "stream",
     "text": [
      "Validation MAE for Random Forest Model: 22762.42931506849\n"
     ]
    }
   ],
   "source": [
    "from sklearn.ensemble import RandomForestRegressor\n",
    "\n",
    "# Define the model. Set random_state to 1\n",
    "rf_model = RandomForestRegressor(random_state=1)\n",
    "\n",
    "# fit your model\n",
    "rf_model.fit(train_X, train_y)\n",
    "\n",
    "# Calculate the mean absolute error of your Random Forest model on the validation data\n",
    "rf_val_mae = mean_absolute_error(val_y, rf_model.predict(val_X))\n",
    "\n",
    "print(\"Validation MAE for Random Forest Model: {}\".format(rf_val_mae))\n"
   ]
  },
  {
   "cell_type": "markdown",
   "metadata": {},
   "source": [
    "#### then, running the final model"
   ]
  },
  {
   "cell_type": "code",
   "execution_count": 12,
   "metadata": {},
   "outputs": [
    {
     "name": "stdout",
     "output_type": "stream",
     "text": [
      "First few predictions: \t\t\t [210350. 175490. 220150. 140850. 250590.]\n",
      "Actual target values for those homes:\t [208500, 181500, 223500, 140000, 250000]\n",
      "MAE for Random Forest Model: 9445.384355838227\n"
     ]
    }
   ],
   "source": [
    "from sklearn.ensemble import RandomForestRegressor\n",
    "\n",
    "# Define the model. \n",
    "final_rf_model = RandomForestRegressor(random_state=0)\n",
    "\n",
    "# fit your model\n",
    "final_rf_model.fit(X, y)\n",
    "\n",
    "# Calculate the mean absolute error of your Random Forest model on the validation data\n",
    "rf_final_mae = mean_absolute_error(y, final_rf_model.predict(X))\n",
    "\n",
    "print(\"First few predictions: \\t\\t\\t\" , final_rf_model.predict(X.head()))\n",
    "print(\"Actual target values for those homes:\\t\", y.head().tolist())\n",
    "print(\"MAE for Random Forest Model: {}\".format(rf_final_mae))\n",
    "\n"
   ]
  },
  {
   "cell_type": "code",
   "execution_count": null,
   "metadata": {},
   "outputs": [],
   "source": []
  },
  {
   "cell_type": "code",
   "execution_count": null,
   "metadata": {},
   "outputs": [],
   "source": []
  }
 ],
 "metadata": {
  "kernelspec": {
   "display_name": "Python 3",
   "language": "python",
   "name": "python3"
  },
  "language_info": {
   "codemirror_mode": {
    "name": "ipython",
    "version": 3
   },
   "file_extension": ".py",
   "mimetype": "text/x-python",
   "name": "python",
   "nbconvert_exporter": "python",
   "pygments_lexer": "ipython3",
   "version": "3.7.0"
  }
 },
 "nbformat": 4,
 "nbformat_minor": 2
}
